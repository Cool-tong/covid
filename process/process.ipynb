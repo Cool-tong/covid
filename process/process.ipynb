{
 "cells": [
  {
   "cell_type": "code",
   "execution_count": null,
   "source": [
    "# 这两个单元格选一个运行\r\n",
    "train_or_dev = \"train\"\r\n",
    "Train_or_Dev = \"Train\""
   ],
   "outputs": [],
   "metadata": {}
  },
  {
   "cell_type": "code",
   "execution_count": null,
   "source": [
    "# 这两个单元格选一个运行\r\n",
    "train_or_dev = \"dev\"\r\n",
    "Train_or_Dev = \"Dev\""
   ],
   "outputs": [],
   "metadata": {}
  },
  {
   "cell_type": "code",
   "execution_count": null,
   "source": [
    "# 读取原始数据集\r\n",
    "import csv\r\n",
    "\r\n",
    "input_file = \"BC7-LitCovid-\" + Train_or_Dev + \".csv\"\r\n",
    "with open(input_file, \"r\", encoding=\"utf-8\") as f:\r\n",
    "    reader = csv.reader(f, delimiter=\",\", quotechar='\"')\r\n",
    "    lines = []\r\n",
    "    for line in reader:\r\n",
    "        lines.append(line)\r\n",
    "line_num = len(lines)\r\n",
    "print(line_num - 1)"
   ],
   "outputs": [],
   "metadata": {}
  },
  {
   "cell_type": "code",
   "execution_count": null,
   "source": [
    "# 按照biobert的格式生成train(test).tsv\r\n",
    "# 生成goldstandard_label_samples_train(test).csv\r\n",
    "# 到时候把它改名为goldstandard_label_samples.csv，运行官方的评估程序biocreative_litcovid_eval.py\r\n",
    "\r\n",
    "labelDict = {'Treatment': 0, 'Diagnosis': 1, 'Prevention': 2, 'Mechanism': 3, \r\n",
    "             'Transmission': 4, 'Epidemic Forecasting': 5, 'Case Report': 6 }\r\n",
    "label_onehot = [['0', '0', '0', '0', '0', '0', '0']]\r\n",
    "with open(\"goldstandard_label_samples_\" + train_or_dev + \".csv\", \"w\", encoding=\"utf-8\") as f1:\r\n",
    "    f1.write(\"PMID,Treatment,Diagnosis,Prevention,Mechanism,Transmission,Epidemic Forecasting,Case Report\\n\")\r\n",
    "    for i in range(1, line_num):\r\n",
    "        labels = lines[i][8].split(\";\")\r\n",
    "        temp = ['0', '0', '0', '0', '0', '0', '0']\r\n",
    "        for label in labels:\r\n",
    "            temp[labelDict[label]] = '1'\r\n",
    "        f1.write(lines[i][0] + \",\" + \",\".join(temp) + \"\\n\")\r\n",
    "        temp = \"\".join(temp)\r\n",
    "        label_onehot.append(temp)\r\n",
    "\r\n",
    "with open(train_or_dev + \".tsv\", \"w\", encoding=\"utf-8\") as f2:\r\n",
    "    for i in range(1, line_num):\r\n",
    "        f2.write(label_onehot[i] + '\\t' + lines[i][3] + '\\n')"
   ],
   "outputs": [],
   "metadata": {}
  },
  {
   "cell_type": "code",
   "execution_count": null,
   "source": [
    "# 根据模型的输出sigmoid_logits.txt，生成prediction_label_samples.csv\r\n",
    "\r\n",
    "with open(\"sigmoid_logits.txt\", \"r\", encoding=\"utf-8\") as f3, \\\r\n",
    "    open(\"prediction_label_samples.csv\", \"w\", encoding=\"utf-8\") as f4:\r\n",
    "    f4.write(\"PMID,Treatment,Diagnosis,Prevention,Mechanism,Transmission,Epidemic Forecasting,Case Report\\n\")\r\n",
    "    lines3 = f3.readlines()\r\n",
    "    for i in range(len(lines3)):\r\n",
    "        num7 = lines3[i].strip('[]\\n').split()\r\n",
    "        f4.write(lines[i+1][0] + ',' + ','.join(num7) + '\\n')\r\n"
   ],
   "outputs": [],
   "metadata": {}
  }
 ],
 "metadata": {
  "orig_nbformat": 4,
  "language_info": {
   "name": "python",
   "version": "3.8.8",
   "mimetype": "text/x-python",
   "codemirror_mode": {
    "name": "ipython",
    "version": 3
   },
   "pygments_lexer": "ipython3",
   "nbconvert_exporter": "python",
   "file_extension": ".py"
  },
  "kernelspec": {
   "name": "python3",
   "display_name": "Python 3.8.8 64-bit"
  },
  "interpreter": {
   "hash": "270f26b3c6025a0917a00de1831d97d1f934e4f1ccdfb3922b308ddd0e5ccf75"
  }
 },
 "nbformat": 4,
 "nbformat_minor": 2
}